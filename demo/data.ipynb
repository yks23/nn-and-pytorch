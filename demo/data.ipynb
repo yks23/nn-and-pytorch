{
 "cells": [
  {
   "cell_type": "code",
   "execution_count": 2,
   "id": "113084e4",
   "metadata": {},
   "outputs": [
    {
     "name": "stdout",
     "output_type": "stream",
     "text": [
      "Label: 5, Image shape: torch.Size([1, 28, 28])\n"
     ]
    }
   ],
   "source": [
    "import torch\n",
    "from torch.utils.data import Dataset\n",
    "from torchvision import datasets, transforms\n",
    "\n",
    "# 自定义 Dataset\n",
    "class CustomMNISTDataset(Dataset):\n",
    "    def __init__(self, transform=None):\n",
    "        # 使用 torchvision 加载 MNIST 数据集\n",
    "        self.mnist_data = datasets.MNIST(root='../data', train=True, download=True)\n",
    "        self.transform = transform\n",
    "\n",
    "    def __len__(self):\n",
    "        return len(self.mnist_data)\n",
    "\n",
    "    def __getitem__(self, idx):\n",
    "        image, label = self.mnist_data[idx]\n",
    "        \n",
    "        # 应用自定义的 transform\n",
    "        if self.transform:\n",
    "            image = self.transform(image)\n",
    "        \n",
    "        return image, label\n",
    "\n",
    "# 定义 transform\n",
    "transform = transforms.Compose([\n",
    "    transforms.ToTensor(),\n",
    "    transforms.Normalize((0.5,), (0.5,))  # MNIST 只包含一个通道\n",
    "])\n",
    "\n",
    "# 创建 CustomMNISTDataset 实例\n",
    "custom_dataset = CustomMNISTDataset(transform=transform)\n",
    "\n",
    "# 获取第一个样本\n",
    "image, label = custom_dataset[0]\n",
    "print(f\"Label: {label}, Image shape: {image.shape}\")\n"
   ]
  },
  {
   "cell_type": "code",
   "execution_count": 4,
   "id": "b6b8d3f9",
   "metadata": {},
   "outputs": [
    {
     "name": "stdout",
     "output_type": "stream",
     "text": [
      "Batch of images: torch.Size([32, 1, 28, 28]), Batch of labels: torch.Size([32])\n"
     ]
    }
   ],
   "source": [
    "from torch.utils.data import DataLoader\n",
    "\n",
    "# 使用 DataLoader 加载数据集\n",
    "batch_size = 32\n",
    "trainloader = DataLoader(custom_dataset, batch_size=batch_size, shuffle=True)\n",
    "\n",
    "# 获取一个批次的数据\n",
    "images, labels = next(iter(trainloader))\n",
    "\n",
    "print(f\"Batch of images: {images.shape}, Batch of labels: {labels.shape}\")\n"
   ]
  },
  {
   "cell_type": "code",
   "execution_count": null,
   "id": "2edc764b",
   "metadata": {},
   "outputs": [
    {
     "name": "stdout",
     "output_type": "stream",
     "text": [
      "Batch of images: torch.Size([32, 1, 28, 28]), Batch of labels: torch.Size([32])\n"
     ]
    }
   ],
   "source": [
    "# 定义 MNIST 数据集的常见 transform\n",
    "transform = transforms.Compose([\n",
    "    transforms.Resize((32, 32)),  # 重新调整大小（MNIST 默认是28x28，但这里示例演示尺寸变化）\n",
    "    transforms.RandomRotation(30),  # 随机旋转图像\n",
    "    transforms.ToTensor(),  # 将图像转换为Tensor\n",
    "    transforms.Normalize((0.5,), (0.5,))  # 归一化\n",
    "])\n",
    "\n",
    "# 加载 MNIST 数据集并应用 transform\n",
    "mnist_data = datasets.MNIST(root='../data', train=True, download=True, transform=transform)\n",
    "\n",
    "# 创建 DataLoader\n",
    "mnist_loader = DataLoader(mnist_data, batch_size=32, shuffle=True)\n",
    "\n",
    "# 获取一个批次的数据\n",
    "images, labels = next(iter(mnist_loader))\n",
    "print(f\"Batch of images: {images.shape}, Batch of labels: {labels.shape}\")\n"
   ]
  }
 ],
 "metadata": {
  "kernelspec": {
   "display_name": "base",
   "language": "python",
   "name": "python3"
  },
  "language_info": {
   "codemirror_mode": {
    "name": "ipython",
    "version": 3
   },
   "file_extension": ".py",
   "mimetype": "text/x-python",
   "name": "python",
   "nbconvert_exporter": "python",
   "pygments_lexer": "ipython3",
   "version": "3.11.7"
  }
 },
 "nbformat": 4,
 "nbformat_minor": 5
}
