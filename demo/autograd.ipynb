{
 "cells": [
  {
   "cell_type": "code",
   "execution_count": null,
   "id": "eaecc0db",
   "metadata": {},
   "outputs": [
    {
     "name": "stdout",
     "output_type": "stream",
     "text": [
      "x的梯度函数:  None\n",
      "z的梯度函数:  None\n",
      "y的梯度:  <MulBackward0 object at 0x0000016B8F633EE0>\n",
      "x的梯度:  tensor([5., 4.])\n",
      "z的梯度:  tensor([2., 3.])\n"
     ]
    }
   ],
   "source": [
    "import torch\n",
    "\n",
    "# 创建两个张量，要求计算梯度\n",
    "x = torch.tensor([2.0, 3.0], requires_grad=True)  # 这个张量需要计算梯度\n",
    "z = torch.tensor([5.0, 4.0], requires_grad=True)  # 这个张量也需要计算梯度\n",
    "\n",
    "# 计算 y = x * z\n",
    "y = x * z  # 这里建立了一个计算图\n",
    "\n",
    "# 打印梯度函数\n",
    "print(\"x的梯度函数: \", x.grad_fn)  # 应该为 None，因为 x 是输入张量，没有梯度计算函数\n",
    "print(\"z的梯度函数: \", z.grad_fn)  # 同上\n",
    "print(\"y的梯度: \", y.grad_fn)  # 这是一个乘法操作的计算图\n",
    "\n",
    "# 反向传播：对y求梯度\n",
    "y.sum().backward(retain_graph=False)  # 对 y 的元素求和，然后反向传播\n",
    "\n",
    "# 打印梯度\n",
    "print(\"x的梯度: \", x.grad)  # 应该是 [5.0, 4.0]，对应于 z\n",
    "print(\"z的梯度: \", z.grad)  # 应该是 [2.0, 3.0]，对应于 x\n",
    "\n"
   ]
  },
  {
   "cell_type": "code",
   "execution_count": 16,
   "id": "0b37c410",
   "metadata": {},
   "outputs": [],
   "source": [
    "y.sum().backward()  # 计算 y 的所有元素之和\n",
    "# 此处应该报错，因为 y 已经被backward() 过了,计算图会被释放!\n"
   ]
  },
  {
   "cell_type": "markdown",
   "id": "f817af28",
   "metadata": {},
   "source": [
    "计算图可视化，Optional\n",
    "### 1. 安装 Graphviz（可视化库）\n",
    "\n",
    "根据你的操作系统，你可以选择以下的包管理工具来安装 Graphviz。\n",
    "\n",
    "#### Windows 安装 Graphviz\n",
    "\n",
    "##### 使用 `choco` (Chocolatey)\n",
    "\n",
    "1. 首先，确保你安装了 [Chocolatey](https://chocolatey.org/), 如果还没有安装，可以按照它的[安装文档](https://chocolatey.org/install)进行安装。\n",
    "2. 使用以下命令安装 Graphviz：\n",
    "\n",
    "   ```bash\n",
    "   choco install graphviz\n",
    "   ```\n",
    "\n",
    "##### 使用 `winget`\n",
    "\n",
    "1. `winget` 是 Windows 10/11 中的 Windows 包管理器，你可以使用它来安装 Graphviz。\n",
    "2. 运行以下命令：\n",
    "\n",
    "   ```bash\n",
    "   winget install Graphviz\n",
    "   ```\n",
    "\n",
    "#### Linux 安装 Graphviz\n",
    "\n",
    "如果你使用的是 Linux 系统，可以使用 `apt`（适用于 Ubuntu/Debian 系统）来安装 Graphviz。\n",
    "\n",
    "```bash\n",
    "sudo apt-get install graphviz\n",
    "```\n",
    "\n",
    "#### macOS 安装 Graphviz\n",
    "\n",
    "如果你使用 macOS，最简单的方式是通过 Homebrew 安装 Graphviz：\n",
    "\n",
    "```bash\n",
    "brew install graphviz\n",
    "```\n",
    "\n",
    "### 2. 配置环境变量\n",
    "\n",
    "#### Windows 环境\n",
    "\n",
    "1. 安装完 Graphviz 后，确保将 Graphviz 安装路径下的 `bin` 目录添加到 `PATH` 环境变量中，默认路径通常是：\n",
    "\n",
    "   ```bash\n",
    "   C:\\Program Files\\Graphviz\\bin\n",
    "   ```\n",
    "\n",
    "2. 打开 **环境变量设置**：\n",
    "\n",
    "   * 右键点击 `此电脑` → `属性` → `高级系统设置` → `环境变量`\n",
    "   * 在 **系统变量** 中找到 `Path`，然后点击 `编辑`。\n",
    "   * 将 Graphviz 安装路径（`C:\\Program Files\\Graphviz\\bin`）添加到 `Path` 变量中。\n",
    "\n",
    "3. 重启命令行或 Jupyter Notebook，确保更新了环境变量。\n",
    "\n",
    "#### 验证 Graphviz 安装\n",
    "\n",
    "1. 打开命令提示符（或 PowerShell），并运行以下命令来验证 Graphviz 是否安装成功：\n",
    "\n",
    "   ```bash\n",
    "   dot -V\n",
    "   ```\n",
    "\n",
    "   如果显示 Graphviz 的版本信息，则表示安装和配置成功。\n",
    "\n",
    "### 3. 安装 `torchviz`\n",
    "\n",
    "在安装 Graphviz 并配置环境变量之后，你需要安装 Python 库 `torchviz`。\n",
    "\n",
    "使用 `pip` 安装 `torchviz`：\n",
    "\n",
    "```bash\n",
    "pip install torchviz\n",
    "```\n"
   ]
  },
  {
   "cell_type": "code",
   "execution_count": 14,
   "id": "4635463f",
   "metadata": {},
   "outputs": [
    {
     "data": {
      "text/plain": [
       "'simple_computation_graph.pdf'"
      ]
     },
     "execution_count": 14,
     "metadata": {},
     "output_type": "execute_result"
    }
   ],
   "source": [
    "import torch\n",
    "from torchviz import make_dot\n",
    "\n",
    "# 创建输入张量 x\n",
    "x = torch.randn(1, 1, requires_grad=True)  # x 是一个需要计算梯度的张量\n",
    "\n",
    "# 定义权重 w 和偏置 b\n",
    "w = torch.randn(1, requires_grad=True)  # w 是一个需要计算梯度的张量\n",
    "b = torch.randn(1, requires_grad=True)  # b 是一个需要计算梯度的张量\n",
    "\n",
    "# 计算 y = x * w + b\n",
    "y = x * w + b\n",
    "y = y*(y.detach())\n",
    "\n",
    "\n",
    "# 生成计算图\n",
    "dot = make_dot(y, params={\"x\": x, \"w\": w, \"b\": b,\"y\":y})\n",
    "\n",
    "# 渲染计算图并保存为 PNG 文件\n",
    "dot.render(\"simple_computation_graph\", format=\"png\")\n",
    "\n",
    "# 显示计算图\n",
    "dot.view(\"simple_computation_graph\")\n"
   ]
  }
 ],
 "metadata": {
  "kernelspec": {
   "display_name": "base",
   "language": "python",
   "name": "python3"
  },
  "language_info": {
   "codemirror_mode": {
    "name": "ipython",
    "version": 3
   },
   "file_extension": ".py",
   "mimetype": "text/x-python",
   "name": "python",
   "nbconvert_exporter": "python",
   "pygments_lexer": "ipython3",
   "version": "3.11.7"
  }
 },
 "nbformat": 4,
 "nbformat_minor": 5
}
