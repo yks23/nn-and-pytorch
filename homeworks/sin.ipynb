{
 "cells": [
  {
   "cell_type": "code",
   "execution_count": null,
   "id": "f29a9154",
   "metadata": {},
   "outputs": [],
   "source": [
    "import torch\n",
    "from torch.utils.data.dataset import Dataset\n",
    "import math\n",
    "import swanlab # 如果wandb对你来说获取困难\n",
    "swanlab.login(api_key='ASzRe235nSSvVxYlaIBbq') # 替换为你的swanlab API key"
   ]
  },
  {
   "cell_type": "code",
   "execution_count": null,
   "id": "2a0c1401",
   "metadata": {},
   "outputs": [],
   "source": [
    "class SinModel(torch.nn.Module):\n",
    "    def __init__(self,order=7):\n",
    "        super(SinModel, self).__init__()\n",
    "        self.w = torch.nn.Parameter(torch.randn(order+1, 1))\n",
    "    def forward(self, x):\n",
    "        x = torch.cat([x**i for i in range(self.w.shape[0])], dim=1)\n",
    "        return x @ self.w"
   ]
  },
  {
   "cell_type": "code",
   "execution_count": null,
   "id": "e6462600",
   "metadata": {},
   "outputs": [],
   "source": [
    "class Sindataset(Dataset):\n",
    "    def __init__(self, start=-1,end=1,len=1000):\n",
    "        self.len =1000\n",
    "        self.start = start\n",
    "        self.end = end\n",
    "\n",
    "    def __len__(self):\n",
    "        return self.len\n",
    "\n",
    "    def __getitem__(self, idx):\n",
    "        x = torch.rand(1) * (self.end - self.start) + self.start\n",
    "        y = torch.sin(x)\n",
    "        return x, y\n",
    "def get_ground_truth(order=7):\n",
    "    w = []\n",
    "    for i in range(order):\n",
    "        # Taylor series coefficients for sin(x)\n",
    "        w.append([0, 1][i % 2] * (1 / math.factorial(i)))"
   ]
  },
  {
   "cell_type": "code",
   "execution_count": null,
   "id": "dfe362a5",
   "metadata": {},
   "outputs": [],
   "source": [
    "batch_size = 1# 尝试小的batch size，之后改成大的\n",
    "lr = 0.01\n",
    "order = 7 # 多项式的阶数\n",
    "model = SinModel(order=order)\n",
    "optimizer = torch.optim.Adam(model.parameters(), lr=lr)\n",
    "criterion = torch.nn.MSELoss()\n",
    "train_dataset = Sindataset()\n",
    "trainloader = torch.utils.data.DataLoader(train_dataset, batch_size=1, shuffle=True)\n",
    "swanlab.init(project='sin', name='sin_model', config={\n",
    "    'order': 7,\n",
    "    'learning_rate': 0.01,\n",
    "    'batch_size': 16,\n",
    "    'epochs': 100\n",
    "})"
   ]
  },
  {
   "cell_type": "code",
   "execution_count": null,
   "id": "5f69d6bc",
   "metadata": {},
   "outputs": [],
   "source": [
    "for epoch in range(100):\n",
    "    running_loss = 0.0\n",
    "    for i, (inputs, labels) in enumerate(trainloader):\n",
    "        optimizer.zero_grad()\n",
    "        outputs = SinModel()(inputs)\n",
    "        loss = criterion(outputs, labels)\n",
    "        loss.backward()\n",
    "        optimizer.step()\n",
    "        running_loss += loss.item()\n",
    "        swanlab.log({\"step_loss\": loss.item()}, step=epoch * len(trainloader) + i)\n",
    "        print('Step loss:', loss.item())\n",
    "    \n",
    "    print(f'Epoch [{epoch+1}/100], Loss: {running_loss / len(trainloader):.4f}')\n",
    "    swanlab.log({\"epoch\": epoch+1, \"loss\": running_loss / len(trainloader)})\n",
    "print(\"model learned:\",model.w)\n",
    "print(\"Ground truth:\",get_ground_truth(order=order))\n"
   ]
  }
 ],
 "metadata": {
  "kernelspec": {
   "display_name": "base",
   "language": "python",
   "name": "python3"
  },
  "language_info": {
   "codemirror_mode": {
    "name": "ipython",
    "version": 3
   },
   "file_extension": ".py",
   "mimetype": "text/x-python",
   "name": "python",
   "nbconvert_exporter": "python",
   "pygments_lexer": "ipython3",
   "version": "3.11.7"
  }
 },
 "nbformat": 4,
 "nbformat_minor": 5
}
